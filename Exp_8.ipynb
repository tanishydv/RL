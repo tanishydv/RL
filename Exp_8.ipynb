{
  "nbformat": 4,
  "nbformat_minor": 0,
  "metadata": {
    "colab": {
      "provenance": [],
      "authorship_tag": "ABX9TyOHLLb3nePhccNWexLRa3Jj",
      "include_colab_link": true
    },
    "kernelspec": {
      "name": "python3",
      "display_name": "Python 3"
    },
    "language_info": {
      "name": "python"
    }
  },
  "cells": [
    {
      "cell_type": "markdown",
      "metadata": {
        "id": "view-in-github",
        "colab_type": "text"
      },
      "source": [
        "<a href=\"https://colab.research.google.com/github/ashubhardwaj001/RL/blob/main/Exp_8.ipynb\" target=\"_parent\"><img src=\"https://colab.research.google.com/assets/colab-badge.svg\" alt=\"Open In Colab\"/></a>"
      ]
    },
    {
      "cell_type": "code",
      "execution_count": 1,
      "metadata": {
        "colab": {
          "base_uri": "https://localhost:8080/"
        },
        "id": "ztrySh238R3k",
        "outputId": "e81fc84c-ffca-4925-c616-e4fc4caecec7"
      },
      "outputs": [
        {
          "output_type": "stream",
          "name": "stdout",
          "text": [
            "Optimal Policy:\n",
            "{'s0': 'a0', 's1': 'a1'}\n",
            "\n",
            "Optimal Values:\n",
            "{'s0': 35.93749255912259, 's1': 32.812492695442394}\n"
          ]
        }
      ],
      "source": [
        "import numpy as np\n",
        "\n",
        "def value_iteration(transitions, rewards, discount_factor=0.9, epsilon=1e-6, max_iterations=1000):\n",
        "    states = list(transitions.keys())\n",
        "    actions = {state: list(transitions[state].keys()) for state in states}\n",
        "\n",
        "    V = {state: 0 for state in states}\n",
        "\n",
        "    for _ in range(max_iterations):\n",
        "        delta = 0\n",
        "\n",
        "        for state in states:\n",
        "            v = V[state]\n",
        "            max_action_value = float('-inf')\n",
        "\n",
        "            for action in actions[state]:\n",
        "                action_value = sum(\n",
        "                    prob * (rewards[state][action] + discount_factor * V[next_state]) for next_state, prob in transitions[state][action]\n",
        "                )\n",
        "\n",
        "                max_action_value = max(max_action_value, action_value)\n",
        "\n",
        "            V[state] = max_action_value\n",
        "            delta = max(delta, abs(v - V[state]))\n",
        "\n",
        "        if delta < epsilon:\n",
        "            break\n",
        "\n",
        "    policy = {state: max(actions[state], key=lambda a: sum(prob * (rewards[state][a] + discount_factor * V[next_state]) for next_state, prob in transitions[state][a])) for state in states}\n",
        "\n",
        "    return policy, V\n",
        "\n",
        "if __name__ == \"__main__\":\n",
        "\n",
        "    transitions = {\n",
        "        's0': {'a0': [('s0', 0.5), ('s1', 0.5)], 'a1': [('s1', 1.0)]},\n",
        "        's1': {'a0': [('s0', 0.7), ('s1', 0.3)], 'a1': [('s0', 0.1), ('s1', 0.9)]}\n",
        "    }\n",
        "\n",
        "    rewards = {\n",
        "        's0': {'a0': 5, 'a1': 2},\n",
        "        's1': {'a0': 1, 'a1': 3}\n",
        "    }\n",
        "    optimal_policy, optimal_values = value_iteration(transitions, rewards)\n",
        "\n",
        "    print(\"Optimal Policy:\")\n",
        "    print(optimal_policy)\n",
        "    print(\"\\nOptimal Values:\")\n",
        "    print(optimal_values)\n"
      ]
    }
  ]
}
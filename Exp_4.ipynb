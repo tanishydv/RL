{
  "nbformat": 4,
  "nbformat_minor": 0,
  "metadata": {
    "colab": {
      "provenance": [],
      "authorship_tag": "ABX9TyMDwyC3UH2ewSMGSoG7SYrE",
      "include_colab_link": true
    },
    "kernelspec": {
      "name": "python3",
      "display_name": "Python 3"
    },
    "language_info": {
      "name": "python"
    }
  },
  "cells": [
    {
      "cell_type": "markdown",
      "metadata": {
        "id": "view-in-github",
        "colab_type": "text"
      },
      "source": [
        "<a href=\"https://colab.research.google.com/github/ashubhardwaj001/RL/blob/main/Exp_4.ipynb\" target=\"_parent\"><img src=\"https://colab.research.google.com/assets/colab-badge.svg\" alt=\"Open In Colab\"/></a>"
      ]
    },
    {
      "cell_type": "code",
      "source": [
        "import numpy as np\n",
        "import matplotlib.pyplot as plt\n",
        "\n",
        "def thompson_sampling_solver(true_means, num_steps):\n",
        "    num_bandits = len(true_means)\n",
        "    alpha = np.ones(num_bandits)\n",
        "    beta = np.ones(num_bandits)\n",
        "    rewards = np.zeros(num_steps)\n",
        "    total_reward = 0\n",
        "\n",
        "    for step in range(num_steps):\n",
        "        sampled_means = np.random.beta(alpha, beta)\n",
        "        arm_to_pull = np.argmax(sampled_means)\n",
        "        reward = np.random.normal(true_means[arm_to_pull], 1)\n",
        "        total_reward += reward\n",
        "\n",
        "        if reward > 0:\n",
        "            alpha[arm_to_pull] += 1\n",
        "        else:\n",
        "            beta[arm_to_pull] += 1\n",
        "\n",
        "        rewards[step] = total_reward / (step + 1)\n",
        "\n",
        "    return rewards, total_reward\n",
        "def main():\n",
        "    np.random.seed(42)\n",
        "\n",
        "    num_bandits = 5\n",
        "    num_steps = 1000\n",
        "\n",
        "    true_means = np.random.normal(0, 1, num_bandits)\n",
        "    thompson_rewards, thompson_total_reward = thompson_sampling_solver(true_means, num_steps)\n",
        "    print(\"Thompson Sampling Total Reward:\", thompson_total_reward)\n",
        "    plt.plot(thompson_rewards, label='Thompson Sampling')\n",
        "    plt.xlabel('Steps')\n",
        "    plt.ylabel('Average Reward')\n",
        "    plt.legend()\n",
        "    plt.show()\n",
        "\n",
        "if name == \"main\":\n",
        "    main()\n"
      ],
      "metadata": {
        "id": "ATMDCwC1_xEF"
      },
      "execution_count": null,
      "outputs": []
    }
  ]
}
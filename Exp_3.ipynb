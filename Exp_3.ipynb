{
  "nbformat": 4,
  "nbformat_minor": 0,
  "metadata": {
    "colab": {
      "provenance": [],
      "authorship_tag": "ABX9TyMVTUBUOW/TNn/0tjiKDcNG",
      "include_colab_link": true
    },
    "kernelspec": {
      "name": "python3",
      "display_name": "Python 3"
    },
    "language_info": {
      "name": "python"
    }
  },
  "cells": [
    {
      "cell_type": "markdown",
      "metadata": {
        "id": "view-in-github",
        "colab_type": "text"
      },
      "source": [
        "<a href=\"https://colab.research.google.com/github/ashubhardwaj001/RL/blob/main/Exp_3.ipynb\" target=\"_parent\"><img src=\"https://colab.research.google.com/assets/colab-badge.svg\" alt=\"Open In Colab\"/></a>"
      ]
    },
    {
      "cell_type": "code",
      "execution_count": null,
      "metadata": {
        "id": "2SoyEBDjBDDJ"
      },
      "outputs": [],
      "source": [
        "import pandas as pd\n",
        "import numpy as np\n",
        "import matplotlib.pyplot as plt\n",
        "df = pd.read_csv('Ads_Optimisation.csv')\n",
        "df.head()\n",
        "df.info()\n",
        "import random\n",
        "N = 10000 #sample\n",
        "d = 10 #no. of ads\n",
        "ads_selected = []\n",
        "total_reward = 0\n",
        "for n in range (0, N):\n",
        "  ad = random.randrange(d)\n",
        "  ads_selected.append(ad)\n",
        "  reward = df.values[n, ad]\n",
        "  total_reward = total_reward + reward\n",
        "pd.Series(ads_selected).head(100).value_counts(normalize=True)\n",
        "#Implementing UCB\n",
        "import matplotlib\n",
        "N= 10000\n",
        "d = 10\n",
        "ads_selected = []\n",
        "numbers_of_selections = [0] * d\n",
        "sums_of_reward = [0] * d\n",
        "total_reward = 0\n",
        "import math\n",
        "for n in range (0,N):\n",
        "  ad = 0\n",
        "  max_upper_bound = 0\n",
        "  for i in range (0, d):\n",
        "    if(numbers_of_selections[i] > 0):\n",
        "      average_reward = sums_of_reward[i] / numbers_of_selections[i]\n",
        "      delta_i = math.sqrt(2 * math.log(n+1) / numbers_of_selections[i])\n",
        "      upper_bound = average_reward + delta_i\n",
        "\n",
        "    else:\n",
        "      upper_bound = 1e400\n",
        "\n",
        "    if upper_bound > max_upper_bound:\n",
        "      max_upper_bound = upper_bound\n",
        "      ad = i\n",
        "ads_selected.append(ad)\n",
        "numbers_of_selections[ad] += 1\n",
        "reward = df.values[n, ad]\n",
        "sums_of_reward[ad] += reward\n",
        "total_reward+= reward\n",
        "pd.Series(ads_selected).tail(10000).value_counts(normalize=True)\n",
        "plt.hist(ads_selected)\n",
        "plt.title('Histogram of ads selection')\n",
        "plt.xlabel('Ads')\n",
        "plt.ylabel('Number of times each ad was selected by the algorithm')"
      ]
    }
  ]
}
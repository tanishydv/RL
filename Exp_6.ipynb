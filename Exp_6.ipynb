{
  "nbformat": 4,
  "nbformat_minor": 0,
  "metadata": {
    "colab": {
      "provenance": [],
      "authorship_tag": "ABX9TyMV645JllsvfAm7x83ul9wW",
      "include_colab_link": true
    },
    "kernelspec": {
      "name": "python3",
      "display_name": "Python 3"
    },
    "language_info": {
      "name": "python"
    }
  },
  "cells": [
    {
      "cell_type": "markdown",
      "metadata": {
        "id": "view-in-github",
        "colab_type": "text"
      },
      "source": [
        "<a href=\"https://colab.research.google.com/github/ashubhardwaj001/RL/blob/main/Exp_6.ipynb\" target=\"_parent\"><img src=\"https://colab.research.google.com/assets/colab-badge.svg\" alt=\"Open In Colab\"/></a>"
      ]
    },
    {
      "cell_type": "code",
      "execution_count": 1,
      "metadata": {
        "id": "83cf2-VR89Cq",
        "outputId": "c882475f-2f3c-4bba-eae2-ac5aa8b66487",
        "colab": {
          "base_uri": "https://localhost:8080/"
        }
      },
      "outputs": [
        {
          "output_type": "stream",
          "name": "stdout",
          "text": [
            "Current state: (0, 0)\n",
            "Action: right\n",
            "Next state: (0, 1)\n",
            "Reward: 0\n",
            "\n",
            "Current state: (0, 1)\n",
            "Action: right\n",
            "Next state: (0, 2)\n",
            "Reward: 0\n",
            "\n",
            "Current state: (0, 2)\n",
            "Action: right\n",
            "Next state: (0, 3)\n",
            "Reward: 0\n",
            "\n",
            "Current state: (0, 3)\n",
            "Action: right\n",
            "Next state: (0, 3)\n",
            "Reward: 0\n",
            "\n",
            "Current state: (0, 3)\n",
            "Action: right\n",
            "Next state: (0, 3)\n",
            "Reward: 0\n",
            "\n",
            "Current state: (0, 3)\n",
            "Action: right\n",
            "Next state: (0, 3)\n",
            "Reward: 0\n",
            "\n",
            "Current state: (0, 3)\n",
            "Action: right\n",
            "Next state: (0, 3)\n",
            "Reward: 0\n",
            "\n",
            "Current state: (0, 3)\n",
            "Action: right\n",
            "Next state: (0, 3)\n",
            "Reward: 0\n",
            "\n",
            "Current state: (0, 3)\n",
            "Action: right\n",
            "Next state: (0, 3)\n",
            "Reward: 0\n",
            "\n",
            "Current state: (0, 3)\n",
            "Action: right\n",
            "Next state: (0, 3)\n",
            "Reward: 0\n",
            "\n",
            "MDP reset to initial state: (0, 0)\n"
          ]
        }
      ],
      "source": [
        "import numpy as np\n",
        "class GridWorldMDP:\n",
        "    def __init__(self, rows, cols, terminal_state, rewards):\n",
        "        self.rows = rows\n",
        "        self.cols = cols\n",
        "        self.state = (0, 0)\n",
        "        self.terminal_state = terminal_state\n",
        "        self.rewards = rewards\n",
        "\n",
        "    def reset(self):\n",
        "        self.state = (0, 0)\n",
        "    def is_terminal(self, state):\n",
        "        return state == self.terminal_state\n",
        "    def get_actions(self, state):\n",
        "        row, col = state\n",
        "        actions = []\n",
        "        if row > 0:\n",
        "            actions.append(\"up\")\n",
        "        if row < self.rows - 1:\n",
        "            actions.append(\"down\")\n",
        "        if col > 0:\n",
        "            actions.append(\"left\")\n",
        "        if col < self.cols - 1:\n",
        "            actions.append(\"right\")\n",
        "        return actions\n",
        "    def take_action(self, action):\n",
        "        row, col = self.state\n",
        "        if action == \"up\":\n",
        "            row -= 1\n",
        "        elif action == \"down\":\n",
        "            row += 1\n",
        "        elif action == \"left\":\n",
        "            col -= 1\n",
        "        elif action == \"right\":\n",
        "            col += 1\n",
        "        row = np.clip(row, 0, self.rows - 1)\n",
        "        col = np.clip(col, 0, self.cols - 1)\n",
        "        self.state = (row, col)\n",
        "        if self.is_terminal(self.state):\n",
        "            return self.terminal_state, self.rewards[self.state]\n",
        "        else:\n",
        "            return self.state, 0\n",
        "rows = 3\n",
        "cols = 4\n",
        "terminal_state = (2, 3)\n",
        "rewards = {(2, 3): 1}\n",
        "\n",
        "mdp = GridWorldMDP(rows, cols, terminal_state, rewards)\n",
        "num_steps = 10\n",
        "for _ in range(num_steps):\n",
        "    print(\"Current state:\", mdp.state)\n",
        "    action = \"right\"\n",
        "    next_state, reward = mdp.take_action(action)\n",
        "    print(\"Action:\", action)\n",
        "    print(\"Next state:\", next_state)\n",
        "    print(\"Reward:\", reward)\n",
        "    print()\n",
        "mdp.reset()\n",
        "print(\"MDP reset to initial state:\", mdp.state)\n"
      ]
    }
  ]
}